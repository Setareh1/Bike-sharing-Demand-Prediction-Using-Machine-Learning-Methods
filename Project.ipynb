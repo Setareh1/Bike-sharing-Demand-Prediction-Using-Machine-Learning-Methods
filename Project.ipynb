{
 "cells": [
  {
   "cell_type": "code",
   "execution_count": 147,
   "metadata": {},
   "outputs": [],
   "source": [
    "import pandas as pd\n",
    "import numpy as np\n",
    "import matplotlib.pyplot as plt\n",
    "import seaborn as sns\n",
    "from sklearn.model_selection import train_test_split, cross_val_score, KFold\n",
    "from sklearn.linear_model import LinearRegression\n",
    "from sklearn.pipeline import Pipeline\n",
    "from sklearn.preprocessing import StandardScaler, PolynomialFeatures\n",
    "from sklearn.metrics import make_scorer\n",
    "from sklearn.base import BaseEstimator, TransformerMixin\n",
    "from sklearn.model_selection import GridSearchCV\n",
    "from sklearn.linear_model import Ridge\n",
    "from sklearn.linear_model import Lasso\n",
    "\n",
    "import sklearn.metrics as metrics\n",
    "from sklearn.metrics import r2_score\n",
    "\n",
    "from sklearn.tree import DecisionTreeRegressor\n",
    "\n",
    "from sklearn.ensemble import RandomForestRegressor\n",
    "from sklearn.ensemble import GradientBoostingRegressor\n",
    "\n",
    "\n",
    "import calendar\n",
    "pd.set_option('display.max_columns', 500)\n",
    "\n",
    "%matplotlib inline"
   ]
  },
  {
   "cell_type": "code",
   "execution_count": 148,
   "metadata": {},
   "outputs": [],
   "source": [
    "train = pd.read_csv(\"./train.csv\")\n"
   ]
  },
  {
   "cell_type": "code",
   "execution_count": 149,
   "metadata": {},
   "outputs": [
    {
     "data": {
      "text/plain": [
       "False"
      ]
     },
     "execution_count": 149,
     "metadata": {},
     "output_type": "execute_result"
    }
   ],
   "source": [
    "train.isnull().values.any()"
   ]
  },
  {
   "cell_type": "code",
   "execution_count": 150,
   "metadata": {},
   "outputs": [
    {
     "data": {
      "text/html": [
       "<div>\n",
       "<style scoped>\n",
       "    .dataframe tbody tr th:only-of-type {\n",
       "        vertical-align: middle;\n",
       "    }\n",
       "\n",
       "    .dataframe tbody tr th {\n",
       "        vertical-align: top;\n",
       "    }\n",
       "\n",
       "    .dataframe thead th {\n",
       "        text-align: right;\n",
       "    }\n",
       "</style>\n",
       "<table border=\"1\" class=\"dataframe\">\n",
       "  <thead>\n",
       "    <tr style=\"text-align: right;\">\n",
       "      <th></th>\n",
       "      <th>datetime</th>\n",
       "      <th>season</th>\n",
       "      <th>holiday</th>\n",
       "      <th>workingday</th>\n",
       "      <th>weather</th>\n",
       "      <th>temp</th>\n",
       "      <th>atemp</th>\n",
       "      <th>humidity</th>\n",
       "      <th>windspeed</th>\n",
       "      <th>casual</th>\n",
       "      <th>registered</th>\n",
       "      <th>count</th>\n",
       "    </tr>\n",
       "  </thead>\n",
       "  <tbody>\n",
       "  </tbody>\n",
       "</table>\n",
       "</div>"
      ],
      "text/plain": [
       "Empty DataFrame\n",
       "Columns: [datetime, season, holiday, workingday, weather, temp, atemp, humidity, windspeed, casual, registered, count]\n",
       "Index: []"
      ]
     },
     "execution_count": 150,
     "metadata": {},
     "output_type": "execute_result"
    }
   ],
   "source": [
    "train[train.isnull().values]\n"
   ]
  },
  {
   "cell_type": "markdown",
   "metadata": {},
   "source": [
    "No missing values"
   ]
  },
  {
   "cell_type": "code",
   "execution_count": 151,
   "metadata": {},
   "outputs": [
    {
     "name": "stdout",
     "output_type": "stream",
     "text": [
      "<class 'pandas.core.frame.DataFrame'>\n",
      "RangeIndex: 10886 entries, 0 to 10885\n",
      "Data columns (total 12 columns):\n",
      " #   Column      Non-Null Count  Dtype  \n",
      "---  ------      --------------  -----  \n",
      " 0   datetime    10886 non-null  object \n",
      " 1   season      10886 non-null  int64  \n",
      " 2   holiday     10886 non-null  int64  \n",
      " 3   workingday  10886 non-null  int64  \n",
      " 4   weather     10886 non-null  int64  \n",
      " 5   temp        10886 non-null  float64\n",
      " 6   atemp       10886 non-null  float64\n",
      " 7   humidity    10886 non-null  int64  \n",
      " 8   windspeed   10886 non-null  float64\n",
      " 9   casual      10886 non-null  int64  \n",
      " 10  registered  10886 non-null  int64  \n",
      " 11  count       10886 non-null  int64  \n",
      "dtypes: float64(3), int64(8), object(1)\n",
      "memory usage: 1020.7+ KB\n"
     ]
    }
   ],
   "source": [
    "train.info()\n"
   ]
  },
  {
   "cell_type": "code",
   "execution_count": 152,
   "metadata": {},
   "outputs": [
    {
     "data": {
      "text/plain": [
       "(10886, 12)"
      ]
     },
     "execution_count": 152,
     "metadata": {},
     "output_type": "execute_result"
    }
   ],
   "source": [
    "train.shape"
   ]
  },
  {
   "cell_type": "code",
   "execution_count": 153,
   "metadata": {},
   "outputs": [],
   "source": [
    "train[\"season\"] = train.season.map({1: \"Spring\", 2 : \"Summer\", 3 : \"Fall\", 4 :\"Winter\" })\n",
    "train[\"weather\"] = train.weather.map({1: \" Clear + Few clouds + Partly cloudy + Partly cloudy\",\\\n",
    "                                        2 : \" Mist + Cloudy, Mist + Broken clouds, Mist + Few clouds, Mist \", \\\n",
    "                                        3 : \" Light Snow, Light Rain + Thunderstorm + Scattered clouds, Light Rain + Scattered clouds\", \\\n",
    "                                        4 :\" Heavy Rain + Ice Pallets + Thunderstorm + Mist, Snow + Fog \" })\n",
    "train[\"holiday\"] = train.holiday.map({1: \"holiday\", 0 : \"non-holiday\"})\n",
    "train[\"workingday\"] = train.workingday.map({1: \"workingday\", 0 : \"non-workingday\"})\n",
    "\n"
   ]
  },
  {
   "cell_type": "markdown",
   "metadata": {},
   "source": [
    "##### One of the columns is \"datetime\". We convert it from string Date time into Python Date time object."
   ]
  },
  {
   "cell_type": "code",
   "execution_count": 154,
   "metadata": {},
   "outputs": [],
   "source": [
    "train['datetime'] = pd.to_datetime(train['datetime'])\n",
    "#test['datetime'] = pd.to_datetime(test['datetime'])\n"
   ]
  },
  {
   "cell_type": "code",
   "execution_count": 155,
   "metadata": {},
   "outputs": [],
   "source": [
    "train['Year'] = train['datetime'].dt.year\n",
    "train[\"hour\"] = train[\"datetime\"].dt.hour\n",
    "\n",
    "train[\"month\"] = train[\"datetime\"].dt.month\n",
    "train['month'] = train['month'].apply(lambda x: calendar.month_name[x])\n",
    "\n",
    "train[\"DayOfWeek\"] = train[\"datetime\"].dt.weekday\n",
    "train['DayOfWeek'] = train['DayOfWeek'].apply(lambda x: calendar.day_name[x])\n",
    "\n",
    "\n"
   ]
  },
  {
   "cell_type": "code",
   "execution_count": 156,
   "metadata": {},
   "outputs": [],
   "source": [
    "train= train.drop(labels=[\"datetime\"], axis=\"columns\")\n"
   ]
  },
  {
   "cell_type": "code",
   "execution_count": 157,
   "metadata": {},
   "outputs": [
    {
     "data": {
      "image/png": "[encoded data removed]",
      "text/plain": [
       "<Figure size 720x480 with 1 Axes>"
      ]
     },
     "metadata": {
      "needs_background": "light"
     },
     "output_type": "display_data"
    }
   ],
   "source": [
    "fig, ax = plt.subplots(dpi = 120)\n",
    "ax.boxplot(x=train[\"count\"],patch_artist = True)\n",
    "ax.set(ylabel='Count')\n",
    "plt.show()\n",
    "\n",
    "\n",
    "\n"
   ]
  },
  {
   "cell_type": "markdown",
   "metadata": {},
   "source": [
    "As we see in the box plot there are outliers that are not included in the box and they are fat from the quartiles.\n",
    "\n"
   ]
  },
  {
   "cell_type": "code",
   "execution_count": 158,
   "metadata": {},
   "outputs": [
    {
     "data": {
      "image/png": "[encoded data removed]",
      "text/plain": [
       "<Figure size 720x480 with 1 Axes>"
      ]
     },
     "metadata": {
      "needs_background": "light"
     },
     "output_type": "display_data"
    }
   ],
   "source": [
    "fig, ax = plt.subplots(dpi = 120)\n",
    "\n",
    "sns.boxplot(data=train,y=\"count\",x=\"season\",orient=\"v\")\n",
    "ax.set(ylabel='Count')\n",
    "plt.show()"
   ]
  },
  {
   "cell_type": "markdown",
   "metadata": {},
   "source": [
    "As we see above we have multivariate outliers as well."
   ]
  },
  {
   "cell_type": "markdown",
   "metadata": {},
   "source": [
    "## Remove Outliers:\n"
   ]
  },
  {
   "cell_type": "code",
   "execution_count": 159,
   "metadata": {},
   "outputs": [
    {
     "name": "stdout",
     "output_type": "stream",
     "text": [
      "242.0\n",
      "2.75583318023149\n"
     ]
    }
   ],
   "source": [
    "Q1 = train['count'].quantile(0.25)\n",
    "Q3 = train['count'].quantile(0.75)\n",
    "IQR = Q3 - Q1\n",
    "print(IQR)\n",
    "\n",
    "outliers = train[(train['count'] < (Q1 - 1.5 * IQR)) | (train['count'] > (Q3 + 1.5 * IQR))]\n",
    "print((len(outliers)/(len(train)))*100)"
   ]
  },
  {
   "cell_type": "markdown",
   "metadata": {},
   "source": [
    "* We see that about %2.75 of the target values are outliers. So we should remove them:"
   ]
  },
  {
   "cell_type": "code",
   "execution_count": 160,
   "metadata": {},
   "outputs": [],
   "source": [
    "train = train.drop(outliers.index)\n"
   ]
  },
  {
   "cell_type": "code",
   "execution_count": 161,
   "metadata": {},
   "outputs": [
    {
     "data": {
      "image/png": "[encoded data removed]",
      "text/plain": [
       "<Figure size 720x480 with 1 Axes>"
      ]
     },
     "metadata": {
      "needs_background": "light"
     },
     "output_type": "display_data"
    }
   ],
   "source": [
    "fig, ax = plt.subplots(dpi = 120)\n",
    "ax.hist(train[\"count\"], bins=15, edgecolor='black')\n",
    "ax.set_xlabel(\"count\")\n",
    "plt.show()"
   ]
  },
  {
   "cell_type": "markdown",
   "metadata": {},
   "source": [
    "##### The graph above shows the distribution of Count. It can be seen that it is very dense between 0-200.\n",
    "\n",
    "\n",
    "\n",
    "We are going to use np.log1p which is np.log(1+y) because if a certain value of count is zero it does not converge to infinity"
   ]
  },
  {
   "cell_type": "code",
   "execution_count": 162,
   "metadata": {},
   "outputs": [
    {
     "data": {
      "image/png": "[encoded data removed]",
      "text/plain": [
       "<Figure size 720x480 with 1 Axes>"
      ]
     },
     "metadata": {
      "needs_background": "light"
     },
     "output_type": "display_data"
    }
   ],
   "source": [
    "log_count = np.log1p(train[\"count\"])\n",
    "fig, ax = plt.subplots(dpi = 120)\n",
    "ax.hist(log_count, bins=15, edgecolor='black')\n",
    "ax.set_xlabel(\"log(count)\")\n",
    "plt.show()"
   ]
  },
  {
   "cell_type": "markdown",
   "metadata": {},
   "source": [
    "### We find the correlation between the pairs of the variables using correlation matrix and then use heatmap plot to represent how strong the pair of variables can be correlated"
   ]
  },
  {
   "cell_type": "code",
   "execution_count": 163,
   "metadata": {},
   "outputs": [
    {
     "data": {
      "text/plain": [
       "<AxesSubplot:>"
      ]
     },
     "execution_count": 163,
     "metadata": {},
     "output_type": "execute_result"
    },
    {
     "data": {
      "image/png": "[encoded data removed]",
      "text/plain": [
       "<Figure size 576x432 with 2 Axes>"
      ]
     },
     "metadata": {
      "needs_background": "light"
     },
     "output_type": "display_data"
    }
   ],
   "source": [
    "plt.figure(figsize = (8,6))\n",
    "train_corr = train.corr()\n",
    "sns.heatmap(train_corr, annot = True, cmap = 'coolwarm', linecolor = 'white', linewidths=0.1)"
   ]
  },
  {
   "cell_type": "markdown",
   "metadata": {},
   "source": [
    "As we see the variable count has a strong correlation with registered and casual variables, therefore we drop these two features:"
   ]
  },
  {
   "cell_type": "code",
   "execution_count": 164,
   "metadata": {},
   "outputs": [],
   "source": [
    "train= train.drop(labels=[\"casual\"], axis=\"columns\")\n",
    "train= train.drop(labels=[\"registered\"], axis=\"columns\")"
   ]
  },
  {
   "cell_type": "markdown",
   "metadata": {},
   "source": [
    "### Let's look at the relationship between Count and other variables.\n"
   ]
  },
  {
   "cell_type": "markdown",
   "metadata": {},
   "source": [
    "### Convert to categorical variables:"
   ]
  },
  {
   "cell_type": "code",
   "execution_count": 165,
   "metadata": {},
   "outputs": [],
   "source": [
    "cat_list = [\"DayOfWeek\", \"season\", \"month\", \"workingday\",\"hour\",\"weather\", \"holiday\"]\n",
    "\n",
    "for cat in cat_list:\n",
    "    train[cat] = train[cat].astype(\"category\")\n"
   ]
  },
  {
   "cell_type": "code",
   "execution_count": 166,
   "metadata": {},
   "outputs": [
    {
     "data": {
      "image/png": "[encoded data removed]",
      "text/plain": [
       "<Figure size 720x480 with 1 Axes>"
      ]
     },
     "metadata": {
      "needs_background": "light"
     },
     "output_type": "display_data"
    }
   ],
   "source": [
    "fig, ax = plt.subplots(dpi = 120)\n",
    "x1=train[train.workingday==\"workingday\"][\"hour\"].values\n",
    "y1=train[train.workingday==\"workingday\"][\"count\"].values\n",
    "\n",
    "x2=train[train.workingday==\"non-workingday\"][\"hour\"].values\n",
    "y2=train[train.workingday==\"non-workingday\"][\"count\"].values\n",
    "\n",
    "sns.lineplot(x=x1,y=y1, label=\"workingday\", color=\"r\")\n",
    "sns.lineplot(x=x2,y=y2, label=\"non-workingday\", color=\"blue\")\n",
    "\n",
    "ax.set_xlabel(\"Hour\")\n",
    "ax.set_ylabel(\"Count\")\n",
    "\n",
    "ax.set_xticks(np.arange(0,24,2))\n",
    "\n",
    "plt.legend()\n",
    "\n",
    "plt.show()\n",
    "fig.savefig(\"hour_count.png\",facecolor='w', dpi=600)"
   ]
  },
  {
   "cell_type": "code",
   "execution_count": 167,
   "metadata": {},
   "outputs": [
    {
     "data": {
      "image/png": "[encoded data removed]",
      "text/plain": [
       "<Figure size 720x480 with 1 Axes>"
      ]
     },
     "metadata": {
      "needs_background": "light"
     },
     "output_type": "display_data"
    }
   ],
   "source": [
    "### Working day: There is a peak in number of rentals in the moring at about 8am and also in the evening around 5pm to 6pm, which makes sense as the people go to work in the morning and come home from work in the evening so there is more demand in these times of the day.\n",
    "### Non-Working day :  the highest rental counts is around noon\n",
    "\n",
    "ordered_months = [\"January\",\"February\",\"March\",\\\n",
    "             \"April\",\"May\",\"June\",\"July\",\"August\",\"September\",\"October\",\"November\",\"December\"]\n",
    "month_count = train.groupby(\"month\")[\"count\"].sum()\n",
    "month_count\n",
    "fig, ax = plt.subplots(dpi = 120)\n",
    "ax = sns.barplot(x=month_count.index.values,y=month_count.values, order=ordered_months)\n",
    "ax.set_xticklabels(ax.get_xticklabels(), rotation=40, ha=\"right\")\n",
    "\n",
    "ax.set_xlabel(\"Month\")\n",
    "ax.set_ylabel(\"Count\")\n",
    "\n",
    "plt.tight_layout()\n",
    "\n",
    "plt.show()\n",
    "fig.savefig(\"month_count.png\",facecolor='w', dpi=600)"
   ]
  },
  {
   "cell_type": "markdown",
   "metadata": {},
   "source": [
    "### There is high demand in renting bike between June to September"
   ]
  },
  {
   "cell_type": "code",
   "execution_count": 168,
   "metadata": {},
   "outputs": [
    {
     "data": {
      "image/png": "[encoded data removed]",
      "text/plain": [
       "<Figure size 720x480 with 1 Axes>"
      ]
     },
     "metadata": {
      "needs_background": "light"
     },
     "output_type": "display_data"
    }
   ],
   "source": [
    "Year_count = train.groupby(\"Year\")[\"count\"].sum()\n",
    "fig, ax = plt.subplots(dpi = 120)\n",
    "ax = sns.barplot(x=Year_count.index.values,y=Year_count.values)\n",
    "ax.set_xlabel(\"Year\")\n",
    "ax.set_ylabel(\"Count\")\n",
    "plt.show()\n",
    "fig.savefig(\"year_count.png\",facecolor='w', dpi=600)"
   ]
  },
  {
   "cell_type": "markdown",
   "metadata": {},
   "source": [
    "### We see that there is a very higher bike rental in 2012 comparing 2011."
   ]
  },
  {
   "cell_type": "code",
   "execution_count": 169,
   "metadata": {},
   "outputs": [
    {
     "data": {
      "image/png": "[encoded data removed]",
      "text/plain": [
       "<Figure size 720x480 with 1 Axes>"
      ]
     },
     "metadata": {
      "needs_background": "light"
     },
     "output_type": "display_data"
    }
   ],
   "source": [
    "workingday_count = train.groupby(\"workingday\")[\"count\"].sum()\n",
    "fig, ax = plt.subplots(dpi = 120)\n",
    "ax = sns.barplot(x=workingday_count.index.values,y=workingday_count.values)\n",
    "ax.set_xlabel(\"workingday\")\n",
    "ax.set_ylabel(\"Count\")\n",
    "plt.show()\n",
    "fig.savefig(\"workingday_count.png\",facecolor='w', dpi=600)"
   ]
  },
  {
   "cell_type": "markdown",
   "metadata": {},
   "source": [
    "### It is reasonable that people rent more bikes during the week."
   ]
  },
  {
   "cell_type": "code",
   "execution_count": 170,
   "metadata": {},
   "outputs": [
    {
     "data": {
      "image/png": "[encoded data removed]",
      "text/plain": [
       "<Figure size 720x480 with 1 Axes>"
      ]
     },
     "metadata": {
      "needs_background": "light"
     },
     "output_type": "display_data"
    }
   ],
   "source": [
    "holiday_count = train.groupby(\"holiday\")[\"count\"].sum()\n",
    "fig, ax = plt.subplots(dpi = 120)\n",
    "ax = sns.barplot(x=holiday_count.index.values,y=holiday_count.values)\n",
    "ax.set_xlabel(\"holiday\")\n",
    "ax.set_ylabel(\"Count\")\n",
    "plt.show()\n",
    "fig.savefig(\"holiday_count.png\",facecolor='w', dpi=600)"
   ]
  },
  {
   "cell_type": "markdown",
   "metadata": {},
   "source": [
    "### It makes sense that people rent bikes when it is not holiday\n"
   ]
  },
  {
   "cell_type": "code",
   "execution_count": 171,
   "metadata": {},
   "outputs": [
    {
     "data": {
      "text/html": [
       "<div>\n",
       "<style scoped>\n",
       "    .dataframe tbody tr th:only-of-type {\n",
       "        vertical-align: middle;\n",
       "    }\n",
       "\n",
       "    .dataframe tbody tr th {\n",
       "        vertical-align: top;\n",
       "    }\n",
       "\n",
       "    .dataframe thead th {\n",
       "        text-align: right;\n",
       "    }\n",
       "</style>\n",
       "<table border=\"1\" class=\"dataframe\">\n",
       "  <thead>\n",
       "    <tr style=\"text-align: right;\">\n",
       "      <th></th>\n",
       "      <th>season</th>\n",
       "      <th>holiday</th>\n",
       "      <th>workingday</th>\n",
       "      <th>weather</th>\n",
       "      <th>temp</th>\n",
       "      <th>atemp</th>\n",
       "      <th>humidity</th>\n",
       "      <th>windspeed</th>\n",
       "      <th>count</th>\n",
       "      <th>Year</th>\n",
       "      <th>hour</th>\n",
       "      <th>month</th>\n",
       "      <th>DayOfWeek</th>\n",
       "    </tr>\n",
       "  </thead>\n",
       "  <tbody>\n",
       "    <tr>\n",
       "      <th>0</th>\n",
       "      <td>Spring</td>\n",
       "      <td>non-holiday</td>\n",
       "      <td>non-workingday</td>\n",
       "      <td>Clear + Few clouds + Partly cloudy + Partly c...</td>\n",
       "      <td>9.84</td>\n",
       "      <td>14.395</td>\n",
       "      <td>81</td>\n",
       "      <td>0.0</td>\n",
       "      <td>16</td>\n",
       "      <td>2011</td>\n",
       "      <td>0</td>\n",
       "      <td>January</td>\n",
       "      <td>Saturday</td>\n",
       "    </tr>\n",
       "    <tr>\n",
       "      <th>1</th>\n",
       "      <td>Spring</td>\n",
       "      <td>non-holiday</td>\n",
       "      <td>non-workingday</td>\n",
       "      <td>Clear + Few clouds + Partly cloudy + Partly c...</td>\n",
       "      <td>9.02</td>\n",
       "      <td>13.635</td>\n",
       "      <td>80</td>\n",
       "      <td>0.0</td>\n",
       "      <td>40</td>\n",
       "      <td>2011</td>\n",
       "      <td>1</td>\n",
       "      <td>January</td>\n",
       "      <td>Saturday</td>\n",
       "    </tr>\n",
       "    <tr>\n",
       "      <th>2</th>\n",
       "      <td>Spring</td>\n",
       "      <td>non-holiday</td>\n",
       "      <td>non-workingday</td>\n",
       "      <td>Clear + Few clouds + Partly cloudy + Partly c...</td>\n",
       "      <td>9.02</td>\n",
       "      <td>13.635</td>\n",
       "      <td>80</td>\n",
       "      <td>0.0</td>\n",
       "      <td>32</td>\n",
       "      <td>2011</td>\n",
       "      <td>2</td>\n",
       "      <td>January</td>\n",
       "      <td>Saturday</td>\n",
       "    </tr>\n",
       "    <tr>\n",
       "      <th>3</th>\n",
       "      <td>Spring</td>\n",
       "      <td>non-holiday</td>\n",
       "      <td>non-workingday</td>\n",
       "      <td>Clear + Few clouds + Partly cloudy + Partly c...</td>\n",
       "      <td>9.84</td>\n",
       "      <td>14.395</td>\n",
       "      <td>75</td>\n",
       "      <td>0.0</td>\n",
       "      <td>13</td>\n",
       "      <td>2011</td>\n",
       "      <td>3</td>\n",
       "      <td>January</td>\n",
       "      <td>Saturday</td>\n",
       "    </tr>\n",
       "    <tr>\n",
       "      <th>4</th>\n",
       "      <td>Spring</td>\n",
       "      <td>non-holiday</td>\n",
       "      <td>non-workingday</td>\n",
       "      <td>Clear + Few clouds + Partly cloudy + Partly c...</td>\n",
       "      <td>9.84</td>\n",
       "      <td>14.395</td>\n",
       "      <td>75</td>\n",
       "      <td>0.0</td>\n",
       "      <td>1</td>\n",
       "      <td>2011</td>\n",
       "      <td>4</td>\n",
       "      <td>January</td>\n",
       "      <td>Saturday</td>\n",
       "    </tr>\n",
       "  </tbody>\n",
       "</table>\n",
       "</div>"
      ],
      "text/plain": [
       "   season      holiday      workingday  \\\n",
       "0  Spring  non-holiday  non-workingday   \n",
       "1  Spring  non-holiday  non-workingday   \n",
       "2  Spring  non-holiday  non-workingday   \n",
       "3  Spring  non-holiday  non-workingday   \n",
       "4  Spring  non-holiday  non-workingday   \n",
       "\n",
       "                                             weather  temp   atemp  humidity  \\\n",
       "0   Clear + Few clouds + Partly cloudy + Partly c...  9.84  14.395        81   \n",
       "1   Clear + Few clouds + Partly cloudy + Partly c...  9.02  13.635        80   \n",
       "2   Clear + Few clouds + Partly cloudy + Partly c...  9.02  13.635        80   \n",
       "3   Clear + Few clouds + Partly cloudy + Partly c...  9.84  14.395        75   \n",
       "4   Clear + Few clouds + Partly cloudy + Partly c...  9.84  14.395        75   \n",
       "\n",
       "   windspeed  count  Year hour    month DayOfWeek  \n",
       "0        0.0     16  2011    0  January  Saturday  \n",
       "1        0.0     40  2011    1  January  Saturday  \n",
       "2        0.0     32  2011    2  January  Saturday  \n",
       "3        0.0     13  2011    3  January  Saturday  \n",
       "4        0.0      1  2011    4  January  Saturday  "
      ]
     },
     "execution_count": 171,
     "metadata": {},
     "output_type": "execute_result"
    }
   ],
   "source": [
    "train.head()"
   ]
  },
  {
   "cell_type": "code",
   "execution_count": 172,
   "metadata": {},
   "outputs": [
    {
     "data": {
      "image/png": "[encoded data removed]",
      "text/plain": [
       "<Figure size 720x480 with 1 Axes>"
      ]
     },
     "metadata": {
      "needs_background": "light"
     },
     "output_type": "display_data"
    }
   ],
   "source": [
    "weather_count = train.groupby(\"weather\")[\"count\"].sum()\n",
    "x_val = [\"Clear\", \"Thunderstorm\", \"Light snow or rain\", \"Mist/Cloudy\"]\n",
    "fig, ax = plt.subplots(dpi = 120)\n",
    "ax = sns.barplot(x=x_val,y=weather_count.values)\n",
    "#ax.set_xticklabels(ax.get_xticklabels(), rotation=90, ha=\"right\")\n",
    "\n",
    "ax.set_xlabel(\"weather\")\n",
    "ax.set_ylabel(\"Count\")\n",
    "plt.show()\n",
    "fig.savefig(\"weather_count.png\",facecolor='w', dpi=600)"
   ]
  },
  {
   "cell_type": "markdown",
   "metadata": {},
   "source": [
    "# Modelling:"
   ]
  },
  {
   "cell_type": "code",
   "execution_count": 173,
   "metadata": {},
   "outputs": [],
   "source": [
    "train_new = pd.get_dummies(train,columns=[\"season\",\"holiday\", \"workingday\", \"weather\", \"month\", \"DayOfWeek\"], drop_first=True)\n"
   ]
  },
  {
   "cell_type": "code",
   "execution_count": 174,
   "metadata": {},
   "outputs": [
    {
     "data": {
      "text/plain": [
       "(10586, 13)"
      ]
     },
     "execution_count": 174,
     "metadata": {},
     "output_type": "execute_result"
    }
   ],
   "source": [
    "train.shape"
   ]
  },
  {
   "cell_type": "markdown",
   "metadata": {},
   "source": [
    "###### Transform y by log(1+y) and then split data to test and train set:"
   ]
  },
  {
   "cell_type": "code",
   "execution_count": 175,
   "metadata": {},
   "outputs": [],
   "source": [
    "y = np.log1p(train_new[\"count\"])\n",
    "X=train_new.drop([\"count\"], axis=\"columns\")\n",
    "\n",
    "Xtrain, Xtest, ytrain, ytest = train_test_split(X, y, test_size=0.2, random_state=0)"
   ]
  },
  {
   "cell_type": "code",
   "execution_count": 176,
   "metadata": {},
   "outputs": [],
   "source": [
    "def rmsle(y, y_pred):\n",
    "    y = np.exp(y),\n",
    "    y_pred = np.exp(y_pred)\n",
    "    log1 = (np.array([np.log(k + 1) for k in y]))\n",
    "    log2 = (np.array([np.log(k + 1) for k in y_pred]))\n",
    "    sqe = (log1 - log2) ** 2\n",
    "    return np.sqrt(np.mean(sqe))"
   ]
  },
  {
   "cell_type": "markdown",
   "metadata": {},
   "source": [
    "# Linear Regression"
   ]
  },
  {
   "cell_type": "code",
   "execution_count": 177,
   "metadata": {},
   "outputs": [],
   "source": [
    "model1 = Pipeline([\n",
    "\n",
    "    ('linear_regression', LinearRegression())\n",
    "])"
   ]
  },
  {
   "cell_type": "code",
   "execution_count": 178,
   "metadata": {},
   "outputs": [
    {
     "name": "stdout",
     "output_type": "stream",
     "text": [
      "linear_regression_model 0.9594082071500752\n"
     ]
    }
   ],
   "source": [
    "#Cross validation\n",
    "\n",
    "cv_score=cross_val_score(model1, Xtrain, ytrain, cv=10, scoring=make_scorer(rmsle))\n",
    "print('linear_regression_model', cv_score.mean())"
   ]
  },
  {
   "cell_type": "markdown",
   "metadata": {},
   "source": [
    "Find the error on the test data set:"
   ]
  },
  {
   "cell_type": "code",
   "execution_count": 179,
   "metadata": {},
   "outputs": [
    {
     "data": {
      "text/plain": [
       "0.9483997478834296"
      ]
     },
     "execution_count": 179,
     "metadata": {},
     "output_type": "execute_result"
    }
   ],
   "source": [
    "model1  =model1.fit(Xtrain, ytrain)\n",
    "y_pred_lin_reg = model1.predict(Xtest)\n",
    "rmsle(ytest, y_pred_lin_reg)"
   ]
  },
  {
   "cell_type": "code",
   "execution_count": 180,
   "metadata": {},
   "outputs": [],
   "source": [
    "coefficient_of_dermination_lin_reg = r2_score(ytest, y_pred_lin_reg)\n"
   ]
  },
  {
   "cell_type": "code",
   "execution_count": 181,
   "metadata": {},
   "outputs": [
    {
     "name": "stdout",
     "output_type": "stream",
     "text": [
      "R2 for linear model:0.4981538831080454\n"
     ]
    }
   ],
   "source": [
    "print(f\"R2 for linear model:{coefficient_of_dermination_lin_reg}\")"
   ]
  },
  {
   "cell_type": "markdown",
   "metadata": {},
   "source": [
    "# Ridge Regression"
   ]
  },
  {
   "cell_type": "markdown",
   "metadata": {},
   "source": [
    "In most of the models, first I just test the model with a value for its hyper paramters and then in the cell tuned the paramters using GridSearchCV. I reported the minimum CV errors using the optimal hyperparameter values in the report. "
   ]
  },
  {
   "cell_type": "code",
   "execution_count": 182,
   "metadata": {},
   "outputs": [
    {
     "name": "stdout",
     "output_type": "stream",
     "text": [
      "Ridge_linear_regression_model 0.9594082071500752\n"
     ]
    }
   ],
   "source": [
    "# I just tried alpha=0.1 but in the nect cell I tuned the value \n",
    "# and report that value in the result section\n",
    "model_ridge_reg= Pipeline([\n",
    "\n",
    "    (\"ridge_reg\", Ridge(alpha=0.1, fit_intercept=True))\n",
    "])\n",
    "\n",
    "cv_score_new=cross_val_score(model_ridge_reg, Xtrain, ytrain, cv=10, scoring=make_scorer(rmsle))\n",
    "print('Ridge_linear_regression_model', cv_score.mean())"
   ]
  },
  {
   "cell_type": "code",
   "execution_count": 183,
   "metadata": {},
   "outputs": [
    {
     "data": {
      "text/plain": [
       "0.9483997671807107"
      ]
     },
     "execution_count": 183,
     "metadata": {},
     "output_type": "execute_result"
    }
   ],
   "source": [
    "model_ridge_reg =model_ridge_reg.fit(Xtrain, ytrain)\n",
    "y_pred_ridge_reg = model_ridge_reg.predict(Xtest)\n",
    "rmsle(ytest, y_pred_ridge_reg)"
   ]
  },
  {
   "cell_type": "code",
   "execution_count": 184,
   "metadata": {},
   "outputs": [
    {
     "name": "stdout",
     "output_type": "stream",
     "text": [
      "R2 for Ridge regression:0.4981535794783827\n"
     ]
    }
   ],
   "source": [
    "coefficient_of_dermination_ridge = r2_score(ytest, y_pred_ridge_reg)\n",
    "print(f\"R2 for Ridge regression:{coefficient_of_dermination_ridge}\")"
   ]
  },
  {
   "cell_type": "code",
   "execution_count": 191,
   "metadata": {},
   "outputs": [],
   "source": [
    "params = {'ridge_reg__alpha': (np.linspace(0.001,10,20))}\n",
    "gscv = GridSearchCV(model_ridge_reg, param_grid=params, cv=10, scoring = make_scorer(rmsle), refit=True)\n",
    "gscv.fit(Xtrain, ytrain)\n",
    "\n",
    "results = pd.DataFrame(gscv.cv_results_)\n"
   ]
  },
  {
   "cell_type": "code",
   "execution_count": 192,
   "metadata": {},
   "outputs": [
    {
     "data": {
      "text/plain": [
       "{'ridge_reg__alpha': 0.001}"
      ]
     },
     "execution_count": 192,
     "metadata": {},
     "output_type": "execute_result"
    }
   ],
   "source": [
    "gscv.best_params_"
   ]
  },
  {
   "cell_type": "code",
   "execution_count": 193,
   "metadata": {},
   "outputs": [],
   "source": [
    "model_ridge_reg_new= Pipeline([\n",
    "\n",
    "    (\"ridge_reg_new\", Ridge(alpha=gscv.best_params_[\"ridge_reg__alpha\"], fit_intercept=True))\n",
    "])\n",
    "\n"
   ]
  },
  {
   "cell_type": "code",
   "execution_count": 194,
   "metadata": {},
   "outputs": [
    {
     "name": "stdout",
     "output_type": "stream",
     "text": [
      "Ridge_linear_regression_model 0.9594082071500752\n"
     ]
    }
   ],
   "source": [
    "cv_score_new=cross_val_score(model_ridge_reg_new, Xtrain, ytrain, cv=10, scoring=make_scorer(rmsle,greater_is_better=False))\n",
    "print('Ridge_linear_regression_model', cv_score.mean())"
   ]
  },
  {
   "cell_type": "code",
   "execution_count": 195,
   "metadata": {},
   "outputs": [
    {
     "data": {
      "text/plain": [
       "0.9483997478328083"
      ]
     },
     "execution_count": 195,
     "metadata": {},
     "output_type": "execute_result"
    }
   ],
   "source": [
    "model_ridge_reg_new =model_ridge_reg_new.fit(Xtrain, ytrain)\n",
    "\n",
    "y_pred_ridge_reg_new = model_ridge_reg_new.predict(Xtest)\n",
    "rmsle(ytest, y_pred_ridge_reg_new)"
   ]
  },
  {
   "cell_type": "code",
   "execution_count": 197,
   "metadata": {},
   "outputs": [
    {
     "name": "stdout",
     "output_type": "stream",
     "text": [
      "R2 for ridge model:0.4981538801747155\n"
     ]
    }
   ],
   "source": [
    "coefficient_of_dermination_ridge_reg = r2_score(ytest, y_pred_ridge_reg_new )\n",
    "\n",
    "print(f\"R2 for ridge model:{coefficient_of_dermination_ridge_reg}\")"
   ]
  },
  {
   "cell_type": "markdown",
   "metadata": {},
   "source": [
    "The error for the best $\\lambda$, which is 0.001, is 0.95 and we can conclude there is no improvement in performance comparing to linear regression"
   ]
  },
  {
   "cell_type": "markdown",
   "metadata": {},
   "source": [
    "# Lasso Regression"
   ]
  },
  {
   "cell_type": "code",
   "execution_count": 198,
   "metadata": {},
   "outputs": [
    {
     "name": "stdout",
     "output_type": "stream",
     "text": [
      "Lasso_linear_regression_model 0.9594082071500752\n"
     ]
    }
   ],
   "source": [
    "model_lasso_reg= Pipeline([\n",
    "\n",
    "    (\"lasso_reg\", Lasso(alpha=0.1, fit_intercept=True))\n",
    "])\n",
    "\n",
    "cv_score_new=cross_val_score(model_lasso_reg, Xtrain, ytrain, cv=10, scoring=make_scorer(rmsle))\n",
    "print('Lasso_linear_regression_model', cv_score.mean())"
   ]
  },
  {
   "cell_type": "code",
   "execution_count": 199,
   "metadata": {},
   "outputs": [],
   "source": [
    "params = {'lasso_reg__alpha': (np.linspace(0.001,10,20))}\n",
    "gscv = GridSearchCV(model_lasso_reg, param_grid=params, cv=10, scoring = make_scorer(rmsle,greater_is_better=False), refit=True)\n",
    "gscv.fit(Xtrain, ytrain)\n",
    "\n",
    "results = pd.DataFrame(gscv.cv_results_)\n",
    "\n"
   ]
  },
  {
   "cell_type": "code",
   "execution_count": 200,
   "metadata": {},
   "outputs": [
    {
     "data": {
      "text/plain": [
       "{'lasso_reg__alpha': 0.001}"
      ]
     },
     "execution_count": 200,
     "metadata": {},
     "output_type": "execute_result"
    }
   ],
   "source": [
    "gscv.best_params_"
   ]
  },
  {
   "cell_type": "code",
   "execution_count": 201,
   "metadata": {},
   "outputs": [
    {
     "name": "stdout",
     "output_type": "stream",
     "text": [
      "Minimum CV error for Lasso_linear_regression_model 0.9594082071500752\n"
     ]
    }
   ],
   "source": [
    "model_lasso_reg_new= Pipeline([\n",
    "\n",
    "    (\"lasso_reg_new\", Lasso(alpha=gscv.best_params_[\"lasso_reg__alpha\"], fit_intercept=True))\n",
    "])\n",
    "cv_score_new=cross_val_score(model_lasso_reg_new, Xtrain, ytrain, cv=10, scoring=make_scorer(rmsle))\n",
    "print('Minimum CV error for Lasso_linear_regression_model', cv_score.mean())"
   ]
  },
  {
   "cell_type": "code",
   "execution_count": 202,
   "metadata": {},
   "outputs": [
    {
     "data": {
      "text/plain": [
       "0.9489253732294208"
      ]
     },
     "execution_count": 202,
     "metadata": {},
     "output_type": "execute_result"
    }
   ],
   "source": [
    "model_lasso_reg_new =model_lasso_reg_new.fit(Xtrain, ytrain)\n",
    "y_pred_lasso_reg_new = model_lasso_reg_new.predict(Xtest)\n",
    "rmsle(ytest, y_pred_lasso_reg_new)"
   ]
  },
  {
   "cell_type": "code",
   "execution_count": 203,
   "metadata": {},
   "outputs": [
    {
     "name": "stdout",
     "output_type": "stream",
     "text": [
      "R2 for ridge model:0.4975448298073246\n"
     ]
    }
   ],
   "source": [
    "coefficient_of_dermination_lasso_reg = r2_score(ytest, y_pred_lasso_reg_new)\n",
    "\n",
    "print(f\"R2 for ridge model:{coefficient_of_dermination_lasso_reg}\")"
   ]
  },
  {
   "cell_type": "markdown",
   "metadata": {},
   "source": [
    "Still no improvement. There is a lower value of error at $\\lambda$=0.001 and small $\\lambda$ values makes the model similar to linear regression."
   ]
  },
  {
   "cell_type": "markdown",
   "metadata": {},
   "source": [
    "# Polynomial regression:"
   ]
  },
  {
   "cell_type": "code",
   "execution_count": 204,
   "metadata": {},
   "outputs": [],
   "source": [
    "poly = PolynomialFeatures(2)\n",
    "Xtrain_poly2 = poly.fit_transform(Xtrain)\n",
    "Xtest_poly2 = poly.fit_transform(Xtest)"
   ]
  },
  {
   "cell_type": "code",
   "execution_count": 205,
   "metadata": {},
   "outputs": [
    {
     "name": "stdout",
     "output_type": "stream",
     "text": [
      "linear_regression_model for polynomial regression (d=2) 0.8183486428441913\n"
     ]
    }
   ],
   "source": [
    "#Cross validation\n",
    "\n",
    "cv_score=cross_val_score(model1, Xtrain_poly2, ytrain, cv=10, scoring=make_scorer(rmsle))\n",
    "print('linear_regression_model for polynomial regression (d=2)', cv_score.mean())"
   ]
  },
  {
   "cell_type": "code",
   "execution_count": 206,
   "metadata": {},
   "outputs": [
    {
     "data": {
      "text/plain": [
       "0.7927901794600394"
      ]
     },
     "execution_count": 206,
     "metadata": {},
     "output_type": "execute_result"
    }
   ],
   "source": [
    "model_reg_poly =model1.fit(Xtrain_poly2, ytrain)\n",
    "y_pred_poly2 = model_reg_poly.predict(Xtest_poly2)\n",
    "#Test Error\n",
    "rmsle(ytest, y_pred_poly2)"
   ]
  },
  {
   "cell_type": "code",
   "execution_count": 67,
   "metadata": {},
   "outputs": [
    {
     "name": "stdout",
     "output_type": "stream",
     "text": [
      "R2 for Polynomial Regression (degree=2):0.6425827234524877\n"
     ]
    }
   ],
   "source": [
    "coefficient_of_dermination_poly = r2_score(ytest, y_pred_poly2)\n",
    "print(f\"R2 for Polynomial Regression (degree=2):{coefficient_of_dermination_poly}\")"
   ]
  },
  {
   "cell_type": "markdown",
   "metadata": {},
   "source": [
    "Second degree polynomial gives a lower error value (higher R2) so we can colclude that it is a better model comparing to linear regression model."
   ]
  },
  {
   "cell_type": "markdown",
   "metadata": {},
   "source": [
    "# Decision Tree"
   ]
  },
  {
   "cell_type": "code",
   "execution_count": 68,
   "metadata": {},
   "outputs": [],
   "source": [
    "DT_model= Pipeline([\n",
    "\n",
    "    (\"DT\", DecisionTreeRegressor(max_depth = 2))\n",
    "])"
   ]
  },
  {
   "cell_type": "code",
   "execution_count": 69,
   "metadata": {},
   "outputs": [
    {
     "name": "stdout",
     "output_type": "stream",
     "text": [
      "DT_model 0.793951250781503\n"
     ]
    }
   ],
   "source": [
    "cv_score=cross_val_score(DT_model, Xtrain, ytrain, cv=10, scoring=make_scorer(rmsle))\n",
    "print('DT_model', cv_score.mean())"
   ]
  },
  {
   "cell_type": "code",
   "execution_count": 70,
   "metadata": {},
   "outputs": [
    {
     "data": {
      "text/plain": [
       "0.7989170377718209"
      ]
     },
     "execution_count": 70,
     "metadata": {},
     "output_type": "execute_result"
    }
   ],
   "source": [
    "DT_model_fit =DT_model.fit(Xtrain, ytrain)\n",
    "y_pred_DT = DT_model_fit.predict(Xtest)\n",
    "rmsle(ytest, y_pred_DT)"
   ]
  },
  {
   "cell_type": "raw",
   "metadata": {},
   "source": [
    "coefficient_of_dermination_DT = r2_score(ytest, y_pred_DT)\n",
    "print(f\"R2 for Decision Tree:{coefficient_of_dermination_DT}\")"
   ]
  },
  {
   "cell_type": "code",
   "execution_count": 71,
   "metadata": {},
   "outputs": [],
   "source": [
    "params = {'DT__max_depth': (np.linspace(1,20,20))}\n",
    "gscv_DT = GridSearchCV(DT_model, param_grid=params, cv=10, scoring = make_scorer(rmsle,greater_is_better=False), refit=True)\n",
    "gscv_DT.fit(Xtrain, ytrain)\n",
    "\n",
    "results_DT = pd.DataFrame(gscv_DT.cv_results_)\n",
    "\n"
   ]
  },
  {
   "cell_type": "code",
   "execution_count": 72,
   "metadata": {},
   "outputs": [
    {
     "data": {
      "text/plain": [
       "{'DT__max_depth': 11.0}"
      ]
     },
     "execution_count": 72,
     "metadata": {},
     "output_type": "execute_result"
    }
   ],
   "source": [
    "gscv_DT.best_params_"
   ]
  },
  {
   "cell_type": "markdown",
   "metadata": {},
   "source": [
    "##### The lowest error corresponds to max_depth=11"
   ]
  },
  {
   "cell_type": "code",
   "execution_count": 73,
   "metadata": {},
   "outputs": [
    {
     "name": "stdout",
     "output_type": "stream",
     "text": [
      "Minimum CV error DT_model max_depth=11 0.4210607574473154\n"
     ]
    }
   ],
   "source": [
    "DT_model_new= Pipeline([\n",
    "\n",
    "    (\"DT_new\", DecisionTreeRegressor(max_depth = gscv_DT.best_params_[\"DT__max_depth\"]))\n",
    "])\n",
    "\n",
    "cv_score_new=cross_val_score(DT_model_new, Xtrain, ytrain, cv=10, scoring=make_scorer(rmsle))\n",
    "print('Minimum CV error DT_model max_depth=11', cv_score_new.mean())"
   ]
  },
  {
   "cell_type": "code",
   "execution_count": 74,
   "metadata": {},
   "outputs": [
    {
     "data": {
      "text/plain": [
       "0.4446444691175788"
      ]
     },
     "execution_count": 74,
     "metadata": {},
     "output_type": "execute_result"
    }
   ],
   "source": [
    "DT_model_fit_new =DT_model_new.fit(Xtrain, ytrain)\n",
    "y_pred_DT_new = DT_model_fit_new.predict(Xtest)\n",
    "rmsle(ytest, y_pred_DT_new)"
   ]
  },
  {
   "cell_type": "code",
   "execution_count": 75,
   "metadata": {},
   "outputs": [
    {
     "name": "stdout",
     "output_type": "stream",
     "text": [
      "R2 for Decision Tree max depth=11 :0.8873901934785022\n"
     ]
    }
   ],
   "source": [
    "coefficient_of_dermination_DT_new = r2_score(ytest, y_pred_DT_new)\n",
    "print(f\"R2 for Decision Tree max depth=11 :{coefficient_of_dermination_DT_new}\")"
   ]
  },
  {
   "cell_type": "markdown",
   "metadata": {},
   "source": [
    "* So far the Decision tree with max depth=11 has the lowest error and therefore highest value for R2."
   ]
  },
  {
   "cell_type": "markdown",
   "metadata": {},
   "source": [
    "# Random Forests"
   ]
  },
  {
   "cell_type": "code",
   "execution_count": 127,
   "metadata": {},
   "outputs": [],
   "source": [
    "#Define the classifier\n",
    "rf_model= Pipeline([\n",
    "\n",
    "    (\"rf\",  RandomForestRegressor(n_estimators=1000,max_depth = 11, n_jobs=-1))\n",
    "])"
   ]
  },
  {
   "cell_type": "code",
   "execution_count": 128,
   "metadata": {},
   "outputs": [
    {
     "name": "stdout",
     "output_type": "stream",
     "text": [
      "rf_model 0.32640548771977007\n"
     ]
    }
   ],
   "source": [
    "cv_score=cross_val_score(rf_model, Xtrain, ytrain, cv=10, scoring=make_scorer(rmsle))\n",
    "print('rf_model', cv_score.mean())"
   ]
  },
  {
   "cell_type": "code",
   "execution_count": 129,
   "metadata": {},
   "outputs": [
    {
     "data": {
      "text/plain": [
       "0.33276100255980723"
      ]
     },
     "execution_count": 129,
     "metadata": {},
     "output_type": "execute_result"
    }
   ],
   "source": [
    "rf_model_fit= rf_model.fit(Xtrain, ytrain)\n",
    "y_pred_rf = rf_model_fit.predict(Xtest)\n",
    "rmsle(ytest, y_pred_rf)"
   ]
  },
  {
   "cell_type": "code",
   "execution_count": 130,
   "metadata": {},
   "outputs": [
    {
     "name": "stdout",
     "output_type": "stream",
     "text": [
      "R2 for random forest:0.9362938690302398\n"
     ]
    }
   ],
   "source": [
    "coefficient_of_dermination_rf = r2_score(ytest, y_pred_rf)\n",
    "print(f\"R2 for random forest:{coefficient_of_dermination_rf}\")"
   ]
  },
  {
   "cell_type": "markdown",
   "metadata": {},
   "source": [
    "### Random forest gives the highest R2"
   ]
  },
  {
   "cell_type": "markdown",
   "metadata": {},
   "source": [
    "## XGBoosting\n"
   ]
  },
  {
   "cell_type": "code",
   "execution_count": 118,
   "metadata": {},
   "outputs": [
    {
     "data": {
      "text/plain": [
       "('rf', RandomForestRegressor(max_depth=15, n_estimators=1000, n_jobs=-1))"
      ]
     },
     "execution_count": 118,
     "metadata": {},
     "output_type": "execute_result"
    }
   ],
   "source": [
    "rf_model.steps[0]"
   ]
  },
  {
   "cell_type": "code",
   "execution_count": 222,
   "metadata": {},
   "outputs": [],
   "source": [
    "xgb_model= Pipeline([\n",
    "\n",
    "    (\"xgb\",  GradientBoostingRegressor(n_estimators=100,max_depth=3,learning_rate=0.1))\n",
    "])\n"
   ]
  },
  {
   "cell_type": "code",
   "execution_count": 223,
   "metadata": {},
   "outputs": [
    {
     "name": "stdout",
     "output_type": "stream",
     "text": [
      "xgb_model 0.4003188895577171\n"
     ]
    }
   ],
   "source": [
    "cv_score=cross_val_score(xgb_model, Xtrain, ytrain, cv=10, scoring=make_scorer(rmsle))\n",
    "print('xgb_model', cv_score.mean())"
   ]
  },
  {
   "cell_type": "code",
   "execution_count": 231,
   "metadata": {},
   "outputs": [],
   "source": [
    "\n",
    "param_grid = dict({'xgb__n_estimators': [100, 1000, 1500, 2000, 4000],\n",
    "                   'xgb__max_depth': [1, 2, 3, 4, 5],\n",
    "                 'xgb__learning_rate' :  [0.1, 0.01, 0.001]\n",
    "                  })"
   ]
  },
  {
   "cell_type": "code",
   "execution_count": 232,
   "metadata": {},
   "outputs": [
    {
     "name": "stdout",
     "output_type": "stream",
     "text": [
      "Fitting 10 folds for each of 75 candidates, totalling 750 fits\n"
     ]
    },
    {
     "name": "stderr",
     "output_type": "stream",
     "text": [
      "[Parallel(n_jobs=-1)]: Using backend LokyBackend with 8 concurrent workers.\n",
      "[Parallel(n_jobs=-1)]: Done  34 tasks      | elapsed:   18.9s\n",
      "[Parallel(n_jobs=-1)]: Done 184 tasks      | elapsed:  4.7min\n",
      "[Parallel(n_jobs=-1)]: Done 434 tasks      | elapsed: 13.3min\n",
      "[Parallel(n_jobs=-1)]: Done 750 out of 750 | elapsed: 26.1min finished\n"
     ]
    }
   ],
   "source": [
    "gscv_xgb = GridSearchCV(xgb_model, param_grid=param_grid, cv=10, scoring = make_scorer(rmsle, greater_is_better=False), refit=False,verbose = 1, n_jobs = -1)\n",
    "gscv_xgb.fit(Xtrain, ytrain)\n",
    "\n",
    "results_xgb = pd.DataFrame(gscv_xgb.cv_results_)"
   ]
  },
  {
   "cell_type": "code",
   "execution_count": 233,
   "metadata": {},
   "outputs": [],
   "source": [
    "xgb_best= Pipeline([\n",
    "\n",
    "    (\"xgb\",  GradientBoostingRegressor(n_estimators=gscv_xgb.best_params_[\"xgb__n_estimators\"],\n",
    "                                       max_depth=gscv_xgb.best_params_['xgb__max_depth'],\n",
    "                                       learning_rate=gscv_xgb.best_params_['xgb__learning_rate']))\n",
    "])\n"
   ]
  },
  {
   "cell_type": "code",
   "execution_count": 234,
   "metadata": {},
   "outputs": [
    {
     "data": {
      "text/plain": [
       "4000"
      ]
     },
     "execution_count": 234,
     "metadata": {},
     "output_type": "execute_result"
    }
   ],
   "source": [
    "gscv_xgb.best_params_[\"xgb__n_estimators\"]"
   ]
  },
  {
   "cell_type": "code",
   "execution_count": 236,
   "metadata": {},
   "outputs": [
    {
     "name": "stdout",
     "output_type": "stream",
     "text": [
      "CV error for best XGB model 0.2657408201781933\n"
     ]
    }
   ],
   "source": [
    "cv_score_best=cross_val_score(xgb_best, Xtrain, ytrain, cv=10, scoring=make_scorer(rmsle))\n",
    "print('CV error for best XGB model', cv_score_best.mean())"
   ]
  },
  {
   "cell_type": "code",
   "execution_count": 237,
   "metadata": {},
   "outputs": [
    {
     "data": {
      "text/plain": [
       "0.2672990265958154"
      ]
     },
     "execution_count": 237,
     "metadata": {},
     "output_type": "execute_result"
    }
   ],
   "source": [
    "xgb_best_fit= xgb_best.fit(Xtrain, ytrain)\n",
    "y_pred_xgb = xgb_best_fit.predict(Xtest)\n",
    "rmsle(ytest, y_pred_xgb)"
   ]
  },
  {
   "cell_type": "code",
   "execution_count": 238,
   "metadata": {},
   "outputs": [
    {
     "name": "stdout",
     "output_type": "stream",
     "text": [
      "R2 for random forest:0.9581643172922931\n"
     ]
    }
   ],
   "source": [
    "coefficient_of_dermination_xgb= r2_score(ytest, y_pred_xgb)\n",
    "print(f\"R2 for random forest:{coefficient_of_dermination_xgb}\")"
   ]
  }
 ],
 "metadata": {
  "kernelspec": {
   "display_name": "Python 3",
   "language": "python",
   "name": "python3"
  },
  "language_info": {
   "codemirror_mode": {
    "name": "ipython",
    "version": 3
   },
   "file_extension": ".py",
   "mimetype": "text/x-python",
   "name": "python",
   "nbconvert_exporter": "python",
   "pygments_lexer": "ipython3",
   "version": "3.8.5"
  }
 },
 "nbformat": 4,
 "nbformat_minor": 4
}
